{
 "cells": [
  {
   "cell_type": "code",
   "execution_count": null,
   "id": "6b2e6e2c",
   "metadata": {},
   "outputs": [],
   "source": [
    "def load_ztf_csv(path):\n",
    "    df = pd.read_csv(path)\n",
    "    df = df.dropna(subset=[\"x0\", \"x1\", \"c\", \"redshift\"]).copy()\n",
    "    return df.reset_index(drop=True)"
   ]
  }
 ],
 "metadata": {
  "language_info": {
   "name": "python"
  }
 },
 "nbformat": 4,
 "nbformat_minor": 5
}
