{
 "cells": [
  {
   "cell_type": "code",
   "execution_count": 1,
   "id": "e1f93431",
   "metadata": {},
   "outputs": [
    {
     "name": "stdout",
     "output_type": "stream",
     "text": [
      "alpha = 0.120 ± 0.005\n",
      "beta  = 2.605 ± 0.034\n",
      "MB    = 29.715 ± 0.007\n"
     ]
    }
   ],
   "source": [
    "import numpy as np\n",
    "import pandas as pd\n",
    "from astropy.cosmology import FlatLambdaCDM\n",
    "\n",
    "# --- Load the ZTF data ---\n",
    "csv_path = \"/Users/pittsburghgraduatestudent/repos/first_paper_blast_webapi/data_ZTF/ZTF_snia_data.csv\"\n",
    "df = pd.read_csv(csv_path)\n",
    "\n",
    "# Drop rows missing SALT2 parameters\n",
    "df_clean = df.dropna(subset=[\"x0\", \"x1\", \"c\", \"redshift\"]).copy()\n",
    "\n",
    "# --- Extract arrays ---\n",
    "x0 = df_clean[\"x0\"].to_numpy()\n",
    "x1 = df_clean[\"x1\"].to_numpy()\n",
    "c  = df_clean[\"c\"].to_numpy()\n",
    "z  = df_clean[\"redshift\"].to_numpy()\n",
    "\n",
    "# --- Cosmology & theoretical distance modulus ---\n",
    "H0, OM0 = 70.0, 0.3\n",
    "cosmo = FlatLambdaCDM(H0=H0, Om0=OM0)\n",
    "mu_th = cosmo.distmod(z).value\n",
    "\n",
    "# --- Convert amplitude to magnitude-like term ---\n",
    "mu0 = -2.5 * np.log10(x0)\n",
    "\n",
    "# --- Define regression target ---\n",
    "# Tripp: mu_th = mu0 + alpha*x1 - beta*c + MB\n",
    "y = mu_th - mu0\n",
    "X = np.column_stack([x1, -c, np.ones_like(x1)])  # [x1, -c, intercept]\n",
    "\n",
    "# --- Solve least squares ---\n",
    "theta, *_ = np.linalg.lstsq(X, y, rcond=None)\n",
    "alpha, beta, MB = theta\n",
    "\n",
    "# --- Residuals and naive covariance ---\n",
    "r   = y - X @ theta\n",
    "dof = max(len(r) - 3, 1)\n",
    "s2  = float(r @ r / dof)\n",
    "cov = s2 * np.linalg.inv(X.T @ X)\n",
    "se_alpha, se_beta, se_MB = np.sqrt(np.diag(cov))\n",
    "\n",
    "# --- Print results ---\n",
    "print(f\"alpha = {alpha:.3f} ± {se_alpha:.3f}\")\n",
    "print(f\"beta  = {beta:.3f} ± {se_beta:.3f}\")\n",
    "print(f\"MB    = {MB:.3f} ± {se_MB:.3f}\")"
   ]
  },
  {
   "cell_type": "code",
   "execution_count": null,
   "id": "31812ccf",
   "metadata": {},
   "outputs": [],
   "source": []
  }
 ],
 "metadata": {
  "kernelspec": {
   "display_name": "ds2",
   "language": "python",
   "name": "python3"
  },
  "language_info": {
   "codemirror_mode": {
    "name": "ipython",
    "version": 3
   },
   "file_extension": ".py",
   "mimetype": "text/x-python",
   "name": "python",
   "nbconvert_exporter": "python",
   "pygments_lexer": "ipython3",
   "version": "3.11.12"
  }
 },
 "nbformat": 4,
 "nbformat_minor": 5
}
